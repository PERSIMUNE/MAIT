{
 "cells": [
  {
   "cell_type": "markdown",
   "metadata": {},
   "source": [
    "This script demonstrates how to use Papermill to run a Jupyter Notebook pipeline with different parameter settings and then convert the executed notebooks to HTML format.\n",
    "\n",
    "This script allows you to run your pipeline multiple times with different parameter values and easily view the results in HTML format."
   ]
  },
  {
   "cell_type": "code",
   "execution_count": null,
   "metadata": {},
   "outputs": [],
   "source": [
    "import papermill as pm\n",
    "from nbconvert import HTMLExporter\n",
    "\n",
    "# Define lists of values for myvar\n",
    "outcome_var = [\"var1\",\"var2\"]\n",
    "\n",
    "# Path to your Jupyter Notebook file\n",
    "input_notebook = 'mypipeline.ipynb'\n",
    "\n",
    "for myvar1 in outcome_var:\n",
    "    columns_to_drop = [\"var3\",\"var4\"]\n",
    "    columns_to_drop.remove(myvar1)\n",
    "    # Define the parameters to pass to the notebook\n",
    "    parameters = {'outcome_var': myvar1, 'columns_to_drop': columns_to_drop}\n",
    "\n",
    "    # Output filename for the executed notebook\n",
    "    output_notebook = f'mypipeline_{myvar1}.ipynb'\n",
    "\n",
    "    # Execute the notebook with the specified parameters\n",
    "    pm.execute_notebook(\n",
    "        input_notebook,\n",
    "        output_notebook,\n",
    "        parameters=parameters\n",
    "    )\n",
    "\n",
    "    # Convert the executed notebook to HTML format\n",
    "    html_exporter = HTMLExporter()\n",
    "    (body, resources) = html_exporter.from_filename(output_notebook)\n",
    "\n",
    "    # Save the HTML output to a file\n",
    "    output_html = f'mypipeline_{myvar1}.html'\n",
    "    with open(output_html, 'w', encoding='utf-8') as html_file:\n",
    "        html_file.write(body)\n",
    "        \n",
    "        # Call the function to remove the text\n",
    "        remove_text_from_html(output_html, *texts_to_remove)\n"
   ]
  }
 ],
 "metadata": {
  "language_info": {
   "name": "python"
  }
 },
 "nbformat": 4,
 "nbformat_minor": 2
}
